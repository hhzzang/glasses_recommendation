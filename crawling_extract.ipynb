{
 "cells": [
  {
   "cell_type": "markdown",
   "metadata": {},
   "source": [
    "### 크롤링 이미지"
   ]
  },
  {
   "cell_type": "code",
   "execution_count": null,
   "metadata": {},
   "outputs": [],
   "source": [
    "from selenium import webdriver\n",
    "from selenium.webdriver.common.keys import Keys\n",
    "import time\n",
    "import urllib.request\n",
    " \n",
    "driver = webdriver.Chrome()\n",
    "driver.get(\"https://www.google.co.kr/imghp?hl=ko&ogbl\")\n",
    "elem = driver.find_element_by_name(\"q\")\n",
    "elem.send_keys(\"연예인 안경테\")\n",
    "elem.send_keys(Keys.RETURN)\n",
    " \n",
    "SCROLL_PAUSE_TIME = 1\n",
    " \n",
    "last_height = driver.execute_script(\"return document.body.scrollHeight\")\n",
    " \n",
    "while True:\n",
    "    driver.execute_script(\"window.scrollTo(0, document.body.scrollHeight);\")\n",
    " \n",
    "    time.sleep(SCROLL_PAUSE_TIME)\n",
    " \n",
    "    new_height = driver.execute_script(\"return document.body.scrollHeight\")\n",
    "    if new_height == last_height:\n",
    "        try:\n",
    "            driver.find_element_by_css_selector(\".mye4qd\").click()\n",
    "        except:\n",
    "            break\n",
    "    last_height = new_height\n",
    "    print(new_height)\n",
    "images = driver.find_elements_by_css_selector(\".rg_i.Q4LuWd\")"
   ]
  },
  {
   "cell_type": "code",
   "execution_count": null,
   "metadata": {},
   "outputs": [],
   "source": [
    "# images = driver.find_elements_by_css_selector(\".rg_i.Q4LuWd\")\n"
   ]
  },
  {
   "cell_type": "code",
   "execution_count": null,
   "metadata": {},
   "outputs": [],
   "source": [
    "imgUrl = driver.find_element_by_xpath('/html/body/div[2]/c-wiz/div[3]/div[2]/div[3]/div/div/div[3]/div[2]/c-wiz/div/div[1]/div[1]/div/div[2]/a/img').get_attribute(\"src\")"
   ]
  },
  {
   "cell_type": "code",
   "execution_count": null,
   "metadata": {},
   "outputs": [],
   "source": [
    "# obj = urllib.request.urlretrieve(imgUrl, 'googles/' + str(1) + \".jpg\")"
   ]
  },
  {
   "cell_type": "code",
   "execution_count": null,
   "metadata": {},
   "outputs": [],
   "source": [
    "count = 1\n",
    "for image in images:\n",
    "    try: \n",
    "        image.click()\n",
    "        time.sleep(2)\n",
    "        imgUrl = driver.find_element_by_xpath('/html/body/div[2]/c-wiz/div[3]/div[2]/div[3]/div/div/div[3]/div[2]/c-wiz/div/div[1]/div[1]/div/div[2]/a/img').get_attribute(\"src\")\n",
    "        time.sleep(1)\n",
    "        urllib.request.urlretrieve(imgUrl, 'googles/' + str(count + 1) + \".jpg\")\n",
    "        count = count + 1\n",
    "        \n",
    "    except:\n",
    "        pass\n",
    " \n",
    "driver.close()"
   ]
  },
  {
   "cell_type": "code",
   "execution_count": null,
   "metadata": {},
   "outputs": [],
   "source": [
    "!pwd"
   ]
  },
  {
   "cell_type": "markdown",
   "metadata": {},
   "source": [
    "### 알집해제"
   ]
  },
  {
   "cell_type": "code",
   "execution_count": null,
   "metadata": {},
   "outputs": [],
   "source": [
    "import zipfile\n",
    "import io\n",
    "import PIL.Image as Image\n",
    "from glob import glob"
   ]
  },
  {
   "cell_type": "code",
   "execution_count": null,
   "metadata": {},
   "outputs": [],
   "source": [
    "img_paths = []\n",
    "names = []\n",
    "for s in [1,2,3,5]:\n",
    "    for l in [1,2]:\n",
    "        for e in [1,2]:\n",
    "            for c in [7,8,9]:\n",
    "                img_paths.append(f'S00{s}/L{l}/E0{e}/C{c}.jpg')\n",
    "                names.append(f'S00{s}_L{l}_E0{e}_C{c}.jpg')\n",
    "zip_list = glob('*.zip')"
   ]
  },
  {
   "cell_type": "code",
   "execution_count": null,
   "metadata": {},
   "outputs": [],
   "source": [
    "for zip_name in zip_list:\n",
    "    my_zip = zipfile.ZipFile(zip_name)\n",
    "    for img_path,name in zip(img_paths, names):\n",
    "        image = Image.open(io.BytesIO(my_zip.read(img_path)))\n",
    "        image.save(zip_name[:-4] + '_' + name)\n"
   ]
  }
 ],
 "metadata": {
  "kernelspec": {
   "display_name": "Python 3",
   "language": "python",
   "name": "python3"
  },
  "language_info": {
   "codemirror_mode": {
    "name": "ipython",
    "version": 3
   },
   "file_extension": ".py",
   "mimetype": "text/x-python",
   "name": "python",
   "nbconvert_exporter": "python",
   "pygments_lexer": "ipython3",
   "version": "3.8.3"
  }
 },
 "nbformat": 4,
 "nbformat_minor": 4
}
